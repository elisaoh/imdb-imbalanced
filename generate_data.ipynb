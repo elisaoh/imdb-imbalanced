{
 "cells": [
  {
   "cell_type": "code",
   "execution_count": 1,
   "metadata": {},
   "outputs": [],
   "source": [
    "import collections\n",
    "import numpy as np\n",
    "import pandas as pd\n",
    "import re\n",
    "\n",
    "from argparse import Namespace"
   ]
  },
  {
   "cell_type": "code",
   "execution_count": 2,
   "metadata": {},
   "outputs": [],
   "source": [
    "args = Namespace(\n",
    "    train_pos=\"data/imdb/train_pos.csv\",\n",
    "    train_neg=\"data/imdb/train_neg.csv\",\n",
    "    test_pos =\"data/imdb/test_pos.csv\", \n",
    "    test_neg =\"data/imdb/test_neg.csv\", \n",
    "    val_prop=0.1, # validation propotion\n",
    "#     tr_pos = 12500,\n",
    "#     tr_neg = 12500,\n",
    "#     tt_pos = 12500,\n",
    "#     tt_neg = 12500,\n",
    "    tr_pos = 500,\n",
    "    tr_neg = 500,\n",
    "    tt_pos = 500,\n",
    "    tt_neg = 500,\n",
    "    output_csv=\"data/imdb/output.csv\",\n",
    "    seed=1337\n",
    ")"
   ]
  },
  {
   "cell_type": "code",
   "execution_count": 3,
   "metadata": {},
   "outputs": [],
   "source": [
    "train_pos = pd.read_csv(args.train_pos, header=None, names=['label', 'review'])\n",
    "train_neg = pd.read_csv(args.train_neg, header=None, names=['label', 'review'])\n",
    "test_pos = pd.read_csv(args.test_pos, header=None, names=['label', 'review'])\n",
    "test_neg = pd.read_csv(args.test_neg, header=None, names=['label', 'review'])"
   ]
  },
  {
   "cell_type": "code",
   "execution_count": 4,
   "metadata": {},
   "outputs": [],
   "source": [
    "\"\"\"\n",
    "for steady performance, simply take the first n rows\n",
    "\"\"\"\n",
    "\n",
    "data_total= pd.DataFrame()\n",
    "\n",
    "data_total = data_total.append(train_pos[0:args.tr_pos],ignore_index=True)\n",
    "data_total = data_total.append(train_neg[0:args.tr_neg],ignore_index=True)\n",
    "\n",
    "data_total = data_total.append(test_pos[0:args.tt_pos],ignore_index=True)\n",
    "data_total = data_total.append(test_neg[0:args.tt_neg],ignore_index=True)\n",
    "\n",
    "\n",
    "\n",
    "\"\"\"\n",
    "assign splits to all data points, including splitting validation set\n",
    "\"\"\"\n",
    "data_total.loc[:,\"split\"] = \"train\"\n",
    "\n",
    "data_total.iloc[args.tr_pos+args.tr_neg-1:,2] = \"test\"\n",
    "\n",
    "data_total.iloc[int(args.tr_pos*(1-args.val_prop)):args.tr_pos,2] = \"val\"\n",
    "data_total.iloc[int(args.tr_pos+args.tr_neg*(1-args.val_prop)):args.tr_pos+args.tr_neg,2] = \"val\"\n"
   ]
  },
  {
   "cell_type": "code",
   "execution_count": 5,
   "metadata": {},
   "outputs": [
    {
     "data": {
      "text/plain": [
       "test     1000\n",
       "train     900\n",
       "val       100\n",
       "Name: split, dtype: int64"
      ]
     },
     "execution_count": 5,
     "metadata": {},
     "output_type": "execute_result"
    }
   ],
   "source": [
    "# check the split value\n",
    "data_total.split.value_counts()"
   ]
  },
  {
   "cell_type": "code",
   "execution_count": 6,
   "metadata": {},
   "outputs": [],
   "source": [
    "data_total.to_csv(args.output_csv, index=False)"
   ]
  },
  {
   "cell_type": "code",
   "execution_count": null,
   "metadata": {},
   "outputs": [],
   "source": []
  }
 ],
 "metadata": {
  "kernelspec": {
   "display_name": "Python [conda env:lucky] *",
   "language": "python",
   "name": "conda-env-lucky-py"
  },
  "language_info": {
   "codemirror_mode": {
    "name": "ipython",
    "version": 3
   },
   "file_extension": ".py",
   "mimetype": "text/x-python",
   "name": "python",
   "nbconvert_exporter": "python",
   "pygments_lexer": "ipython3",
   "version": "3.7.4"
  }
 },
 "nbformat": 4,
 "nbformat_minor": 2
}
